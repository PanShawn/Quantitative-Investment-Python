{
 "cells": [
  {
   "cell_type": "markdown",
   "metadata": {},
   "source": [
    "# Value at Risk (VaR)"
   ]
  },
  {
   "cell_type": "markdown",
   "metadata": {},
   "source": [
    "## Variance-covariance: assume return is normal distribution"
   ]
  },
  {
   "cell_type": "code",
   "execution_count": 11,
   "metadata": {},
   "outputs": [
    {
     "name": "stdout",
     "output_type": "stream",
     "text": [
      "Value-at-Risk: $56401.08\n"
     ]
    }
   ],
   "source": [
    "from scipy.stats import norm\n",
    "import numpy as np\n",
    "import quandl\n",
    "\n",
    "def var_cov_var(P, c, mu, sigma):\n",
    "    alpha = norm.ppf(1-c, mu, sigma)\n",
    "    return P - P*(alpha + 1)\n",
    "if __name__ == \"__main__\":\n",
    "    start = \"2010-01-01\"\n",
    "    end = \"2014-01-01\"\n",
    "    citi = quandl.get(\"WIKI/C\", start_date = start, end_date = end, api_key = \"**\")\n",
    "    #Citi group\n",
    "    citi[\"rets\"] = citi[\"Adj. Close\"].pct_change()\n",
    "    P = 1e6 # 1,000,000 USD\n",
    "    c = 0.99 # 99% confidence interval\n",
    "    mu = np.mean(citi[\"rets\"])\n",
    "    sigma = np.std(citi[\"rets\"])\n",
    "    var = var_cov_var(P, c, mu, sigma)\n",
    "    print(\"Value-at-Risk: $%0.2f\" % var)"
   ]
  },
  {
   "cell_type": "markdown",
   "metadata": {},
   "source": [
    "## Historical Simulation Method (HSM)"
   ]
  },
  {
   "cell_type": "code",
   "execution_count": 20,
   "metadata": {},
   "outputs": [],
   "source": [
    "import numpy as np\n",
    "import pandas as pd\n",
    "import matplotlib.pyplot as plt\n",
    "from matplotlib import style\n",
    " \n",
    "style.use('ggplot')\n",
    "#==============================================================================\n",
    " \n",
    "def single_asset_var(symbol,start, end):\n",
    "    #Get data from quandl\n",
    "    data = quandl.get(symbol, start_date = start, end_date = end, api_key = \"**\").sort_index()\n",
    "    \n",
    "    #Calculate returns\n",
    "    rets = data.pct_change()\n",
    "    rets = rets.dropna(how = 'any') \n",
    "    \n",
    "    #Sort Returns in Ascending Order\n",
    "    sorted_rets = sorted(rets[\"Close\"])\n",
    "    \n",
    "    varg = np.percentile(sorted_rets, 5)\n",
    "    \n",
    "    #Output histogram\n",
    "    plt.hist(sorted_rets,density = True)\n",
    "    plt.xlabel('Returns')\n",
    "    plt.ylabel('Frequency')\n",
    "    plt.title(r'Histogram of Asset Returns', fontsize=18, fontweight='bold')\n",
    "    plt.axvline(x=varg, color='r', linestyle='--', label='95% Confidence VaR: ' + \"{0:.2f}%\".format(varg * 100))\n",
    "    plt.legend(loc='upper right', fontsize = 'x-small')\n",
    "    plt.show()  \n",
    "    \n",
    "    #VaR stats\n",
    "    print(\"99.99% Confident the actual loss will not exceed: \" , \"{0:.2f}%\".format(np.percentile(sorted_rets, .01) * 100))\n",
    "    print(\"99% Confident the actual loss will not exceed: \" + \"{0:.2f}%\".format(np.percentile(sorted_rets, 1) * 100))\n",
    "    print(\"95% Confident the actual loss will not exceed: \" + \"{0:.2f}%\".format(np.percentile(sorted_rets, 5) * 100))\n",
    "    \n",
    "    print(\"Losses expected to exceed \" + \"{0:.2f}%\".format(np.percentile(sorted_rets, 5) * 100) + \" \" + str(.05*len(rets)) + \" out of \" + str(len(rets)) + \" days\")"
   ]
  },
  {
   "cell_type": "code",
   "execution_count": 21,
   "metadata": {},
   "outputs": [
    {
     "data": {
      "image/png": "[encoded data removed]",
      "text/plain": [
       "<Figure size 432x288 with 1 Axes>"
      ]
     },
     "metadata": {},
     "output_type": "display_data"
    },
    {
     "name": "stdout",
     "output_type": "stream",
     "text": [
      "99.99% Confident the actual loss will not exceed:  -1.95%\n",
      "99% Confident the actual loss will not exceed: -1.87%\n",
      "95% Confident the actual loss will not exceed: -1.54%\n",
      "Losses expected to exceed -1.54% 0.8 out of 16 days\n"
     ]
    }
   ],
   "source": [
    "single_asset_var('WIKI/C', '2015-01-01', '2017-01-01')"
   ]
  }
 ],
 "metadata": {
  "kernelspec": {
   "display_name": "Python 3",
   "language": "python",
   "name": "python3"
  },
  "language_info": {
   "codemirror_mode": {
    "name": "ipython",
    "version": 3
   },
   "file_extension": ".py",
   "mimetype": "text/x-python",
   "name": "python",
   "nbconvert_exporter": "python",
   "pygments_lexer": "ipython3",
   "version": "3.7.3"
  }
 },
 "nbformat": 4,
 "nbformat_minor": 2
}
